{
 "cells": [
  {
   "cell_type": "markdown",
   "id": "9fd02562",
   "metadata": {},
   "source": [
    "# Load the datafiles from tuitiontracker.org "
   ]
  },
  {
   "cell_type": "code",
   "execution_count": null,
   "id": "22330f40",
   "metadata": {},
   "outputs": [],
   "source": [
    "#import libraries\n",
    "import pandas as pd\n",
    "from sqlalchemy import create_engine  "
   ]
  },
  {
   "cell_type": "code",
   "execution_count": null,
   "id": "fbc043d2",
   "metadata": {},
   "outputs": [],
   "source": [
    "####### Institution Data File #######"
   ]
  },
  {
   "cell_type": "code",
   "execution_count": null,
   "id": "f0d63c35",
   "metadata": {
    "scrolled": true
   },
   "outputs": [],
   "source": [
    "#load CSV file institution data \n",
    "csv_file = \"data/institutions.csv\"\n",
    "institutions = pd.read_csv(csv_file)\n"
   ]
  },
  {
   "cell_type": "code",
   "execution_count": null,
   "id": "9454318a",
   "metadata": {},
   "outputs": [],
   "source": [
    "institutions = institutions.drop(['Institution name alias (HD2016)', \n",
    "         'Historically Black College or University (HD2016)',\n",
    "        'Tribal college (HD2016)', 'Control of institution (HD2016)', \n",
    "         'Grand total (EF2016A  All students  Undergraduate total)'], axis=1)"
   ]
  },
  {
   "cell_type": "code",
   "execution_count": null,
   "id": "9eaebecd",
   "metadata": {},
   "outputs": [],
   "source": [
    "institutions = institutions.rename(columns={\"UnitID\" : \"unit_id\", \n",
    "                                            \"Institution Name\" : \"institution\", \n",
    "                                            \"Street address or post office box (HD2016)\": \"address\", \n",
    "                                            \"City location of institution (HD2016)\": \"city\",\n",
    "                                            \"State abbreviation (HD2016)\" : \"state\",\n",
    "                                            \"ZIP code (HD2016)\" : \"zip_code\",\n",
    "                                            \"Institution's internet website address (HD2016)\" : \"website\",\n",
    "                                            \"Longitude location of institution (HD2016)\" : \"lon\",\n",
    "                                            \"Latitude location of institution (HD2016)\" : \"lat\",\n",
    "                                            \"Sector of institution (HD2016)\" : \"sector\",\n",
    "                                            \"Bureau of Economic Analysis (BEA) regions (HD2016)\" : \"region\",\n",
    "                                            \"Percent admitted - total (DRVADM2016)\" : \"perc_admitted\",\n",
    "                                            \"Grand total (EF2016  All students  Undergraduate total)\" : \"total_enrollment\",\n",
    "                                            \"Total men (EF2016  All students  Undergraduate total)\" : \"total_men\",\n",
    "                                            \"Total women (EF2016  All students  Undergraduate total)\" : \"total_women\",\n",
    "                                            \"American Indian or Alaska Native total (EF2016A  All students  Undergraduate total)\" : \"total_american_indian\",\n",
    "                                            \"Asian total (EF2016A  All students  Undergraduate total)\" : \"total_asian\", \n",
    "                                            \"Black or African American total (EF2016A  All students  Undergraduate total)\" : \"total_black\", \n",
    "                                            \"Hispanic total (EF2016A  All students  Undergraduate total)\" : \"total_hispanic\", \n",
    "                                            \"Native Hawaiian or Other Pacific Islander total (EF2016A  All students  Undergraduate total)\" : \"total_pacific_islander\", \n",
    "                                            \"White total (EF2016A  All students  Undergraduate total)\" : \"total_white\",\n",
    "                                            \"Two or more races total (EF2016A  All students  Undergraduate total)\" : \"total_two_or_more\", \n",
    "                                            \"Race/ethnicity unknown total (EF2016A  All students  Undergraduate total)\" : \"total_race_unknown\",\n",
    "                                            \"Nonresident alien total (EF2016A  All students  Undergraduate total)\" : \"total_nonresident\"\n",
    "                                           })\n",
    "institutions "
   ]
  },
  {
   "cell_type": "code",
   "execution_count": null,
   "id": "2148ed30",
   "metadata": {},
   "outputs": [],
   "source": [
    "institutions = institutions.fillna(0)"
   ]
  },
  {
   "cell_type": "code",
   "execution_count": null,
   "id": "70259977",
   "metadata": {},
   "outputs": [],
   "source": [
    "institutions.set_index('unit_id')"
   ]
  },
  {
   "cell_type": "code",
   "execution_count": null,
   "id": "206d7ce1",
   "metadata": {},
   "outputs": [],
   "source": [
    "####### net-price Data File #######\n",
    "# includes data for net price based on income level \n"
   ]
  },
  {
   "cell_type": "code",
   "execution_count": null,
   "id": "e5d4531b",
   "metadata": {},
   "outputs": [],
   "source": [
    "#load CSV file - net-price data \n",
    "csv_file = \"data/net-price.csv\"\n",
    "netprice = pd.read_csv(csv_file)\n",
    "netprice.head()\n"
   ]
  },
  {
   "cell_type": "code",
   "execution_count": null,
   "id": "b75296b8",
   "metadata": {},
   "outputs": [],
   "source": [
    "netprice = netprice[[\"UnitID\",\n",
    "\"Average net price (income 0-30 000)-students awarded Title IV federal financial aid  2015-16 (SFA1516) - public\",\n",
    "\"Average net price (income 30 001-48 000)-students awarded Title IV federal financial aid  2015-16 (SFA1516) - public\",\n",
    "\"Average net price (income 48 001-75 000)-students awarded Title IV federal financial aid  2015-16 (SFA1516) - public\",\n",
    "\"Average net price (income 75 001-110 000)-students awarded Title IV federal financial aid  2015-16 (SFA1516) - public\",\n",
    "\"Average net price (income over 110 000)-students awarded Title IV federal financial aid  2015-16 (SFA1516) - public\",\n",
    "\"Average net price (income 0-30 000)-students awarded Title IV federal financial aid  2015-16 (SFA1516) - privateforprofit\",\n",
    "\"Average net price (income 30 001-48 000)-students awarded Title IV federal financial aid  2015-16 (SFA1516) - privateforprofit\",\n",
    "\"Average net price (income 48 001-75 000)-students awarded Title IV federal financial aid  2015-16 (SFA1516) - privateforprofit\",\n",
    "\"Average net price (income 75 001-110 000)-students awarded Title IV federal financial aid  2015-16 (SFA1516) - privateforprofit\",\n",
    "\"Average net price (income over 110 000)-students awarded Title IV federal financial aid  2015-16 (SFA1516) - privateforprofit\"\n",
    "]]\n"
   ]
  },
  {
   "cell_type": "code",
   "execution_count": null,
   "id": "75eb3473",
   "metadata": {},
   "outputs": [],
   "source": [
    "netprice = netprice.rename(columns={\"UnitID\" : \"unit_id\", \n",
    "            \"Average net price (income 0-30 000)-students awarded Title IV federal financial aid  2015-16 (SFA1516) - public\" : \"avg_net_price_0_30000_titleiv_public\" ,\n",
    "            \"Average net price (income 30 001-48 000)-students awarded Title IV federal financial aid  2015-16 (SFA1516) - public\" : \"avg_net_price_30001_48000_titleiv_public\",\n",
    "            \"Average net price (income 48 001-75 000)-students awarded Title IV federal financial aid  2015-16 (SFA1516) - public\" : \"avg_net_price_48001_75000_titleiv_public\",\n",
    "            \"Average net price (income 75 001-110 000)-students awarded Title IV federal financial aid  2015-16 (SFA1516) - public\" : \"avg_net_price_75001_110000_titleiv_public\",\n",
    "            \"Average net price (income over 110 000)-students awarded Title IV federal financial aid  2015-16 (SFA1516) - public\" : \"avg_net_price_110001_titleiv_public\",\n",
    "            \"Average net price (income 0-30 000)-students awarded Title IV federal financial aid  2015-16 (SFA1516) - privateforprofit\" : \"avg_net_price_0_30000_titleiv_privateforprofit\",\n",
    "            \"Average net price (income 30 001-48 000)-students awarded Title IV federal financial aid  2015-16 (SFA1516) - privateforprofit\" : \"avg_net_price_30001_48000_titleiv_privateforprofit\",\n",
    "            \"Average net price (income 48 001-75 000)-students awarded Title IV federal financial aid  2015-16 (SFA1516) - privateforprofit\" : \"avg_net_price_48001_75000_titleiv_privateforprofit\",\n",
    "            \"Average net price (income 75 001-110 000)-students awarded Title IV federal financial aid  2015-16 (SFA1516) - privateforprofit\" : \"avg_net_price_75001_110000_titleiv_privateforprofit\",\n",
    "            \"Average net price (income over 110 000)-students awarded Title IV federal financial aid  2015-16 (SFA1516) - privateforprofit\" : \"avg_net_price_110001_titleiv_privateforprofit\"\n",
    "                          })\n",
    "\n",
    "netprice                   "
   ]
  },
  {
   "cell_type": "code",
   "execution_count": null,
   "id": "220bd523",
   "metadata": {},
   "outputs": [],
   "source": [
    "netprice = netprice.fillna(0)"
   ]
  },
  {
   "cell_type": "code",
   "execution_count": null,
   "id": "9bce8964",
   "metadata": {},
   "outputs": [],
   "source": [
    "netprice.set_index('unit_id')"
   ]
  },
  {
   "cell_type": "code",
   "execution_count": null,
   "id": "046a2f22",
   "metadata": {},
   "outputs": [],
   "source": [
    "####### Tuition Data File #######"
   ]
  },
  {
   "cell_type": "code",
   "execution_count": null,
   "id": "7be82911",
   "metadata": {},
   "outputs": [],
   "source": [
    "#load CSV file tuition data \n",
    "csv_file = \"data/cost-attendance.csv\"\n",
    "tuition = pd.read_csv(csv_file)\n",
    "tuition.head()\n",
    "\n",
    "\n",
    "tuition = tuition[[\"UnitID\",\n",
    "\"Published in-state tuition and fees 2017-18 (IC2017_AY)\"]]\n",
    "\n",
    "\n",
    "tuition = tuition.rename(columns={\"UnitID\" : \"unit_id\",\n",
    "                       \"Published in-state tuition and fees 2017-18 (IC2017_AY)\" : \"instate_tuition_fees\"})\n",
    "\n",
    "tuition"
   ]
  },
  {
   "cell_type": "code",
   "execution_count": null,
   "id": "2acdab85",
   "metadata": {},
   "outputs": [],
   "source": [
    "tuition = tuition.dropna()\n",
    "\n",
    "tuition"
   ]
  },
  {
   "cell_type": "code",
   "execution_count": null,
   "id": "b529e641",
   "metadata": {},
   "outputs": [],
   "source": [
    "tuition.set_index('unit_id')"
   ]
  },
  {
   "cell_type": "code",
   "execution_count": null,
   "id": "ac01f19f",
   "metadata": {},
   "outputs": [],
   "source": [
    "####### retention-rates Data File #######"
   ]
  },
  {
   "cell_type": "code",
   "execution_count": null,
   "id": "0cacdda4",
   "metadata": {},
   "outputs": [],
   "source": [
    "#load CSV file retention-rates data \n",
    "csv_file = \"data/retention-rates.csv\"\n",
    "retentionrates = pd.read_csv(csv_file)\n",
    "retentionrates.head()\n",
    "\n",
    "retentionrates = retentionrates[[\"UnitID\",\n",
    "        \"Full-time retention rate  2016 (EF2016D)\"]]\n",
    "\n",
    "\n",
    "retentionrates = retentionrates.rename(columns={\"UnitID\" : \"unit_id\",\n",
    "        \"Full-time retention rate  2016 (EF2016D)\": \"full_time_retention_rate\"})\n",
    "                                           \n",
    "retentionrates\n"
   ]
  },
  {
   "cell_type": "code",
   "execution_count": null,
   "id": "9c78f9b2",
   "metadata": {},
   "outputs": [],
   "source": [
    "retentionrates = retentionrates.dropna()\n",
    "\n",
    "retentionrates"
   ]
  },
  {
   "cell_type": "code",
   "execution_count": null,
   "id": "e6251c36",
   "metadata": {},
   "outputs": [],
   "source": [
    "retentionrates.set_index('unit_id')"
   ]
  },
  {
   "cell_type": "code",
   "execution_count": null,
   "id": "4287e522",
   "metadata": {},
   "outputs": [],
   "source": [
    "####### Financial Aid Data File #######"
   ]
  },
  {
   "cell_type": "code",
   "execution_count": null,
   "id": "5a0d7205",
   "metadata": {},
   "outputs": [],
   "source": [
    "#load CSV file financial aid data \n",
    "csv_file = \"data/financial-aid.csv\"\n",
    "financialaid = pd.read_csv(csv_file)\n",
    "financialaid.head()\n",
    "\n",
    "financialaid = financialaid[[\"UnitID\",\n",
    "        \"Percent of full-time first-time undergraduates awarded federal  state  local or institutional grant aid (SFA1516)\",\n",
    "        \"Average amount of federal  state  local or institutional grant aid awarded (SFA1516)\",\n",
    "        \"Average amount of Pell grant aid awarded to full-time first-time undergraduates (SFA1516)\"]]\n",
    "\n",
    "\n",
    "financialaid = financialaid.rename(columns={\"UnitID\" : \"unit_id\",\n",
    "        \"Percent of full-time first-time undergraduates awarded federal  state  local or institutional grant aid (SFA1516)\" : \"perc_first_time_full_time_undergrad_other_grant_aid\",\n",
    "        \"Average amount of federal  state  local or institutional grant aid awarded (SFA1516)\" : \"avg_amount_other_grant_aid_first_time_full_time_undergrad\",\n",
    "        \"Average amount of Pell grant aid awarded to full-time first-time undergraduates (SFA1516)\" :\"avg_amount_pell_grants_first_time_full_time_undergrad\"})\n",
    "                                            \n",
    "financialaid\n"
   ]
  },
  {
   "cell_type": "code",
   "execution_count": null,
   "id": "1beb6f78",
   "metadata": {},
   "outputs": [],
   "source": [
    "financialaid = financialaid.dropna()\n",
    "\n",
    "financialaid"
   ]
  },
  {
   "cell_type": "code",
   "execution_count": null,
   "id": "b313e9b5",
   "metadata": {},
   "outputs": [],
   "source": [
    "financialaid.set_index('unit_id')"
   ]
  },
  {
   "cell_type": "markdown",
   "id": "dce5c68c",
   "metadata": {},
   "source": [
    "# Clean and merge dataframes "
   ]
  },
  {
   "cell_type": "code",
   "execution_count": null,
   "id": "30cc73c7",
   "metadata": {},
   "outputs": [],
   "source": [
    "combined_institutions_df = pd.concat([institutions, netprice], axis=1, join=\"inner\")"
   ]
  },
  {
   "cell_type": "code",
   "execution_count": null,
   "id": "d35ae060",
   "metadata": {},
   "outputs": [],
   "source": [
    "combined_institutions_df = pd.concat([combined_institutions_df, tuition], axis=1, join=\"inner\")"
   ]
  },
  {
   "cell_type": "code",
   "execution_count": null,
   "id": "ee256006",
   "metadata": {},
   "outputs": [],
   "source": [
    "combined_institutions_df = pd.concat([combined_institutions_df, retentionrates], axis=1, join=\"inner\")"
   ]
  },
  {
   "cell_type": "code",
   "execution_count": null,
   "id": "eb935636",
   "metadata": {},
   "outputs": [],
   "source": [
    "combined_institutions_df = pd.concat([combined_institutions_df, financialaid], axis=1, join=\"inner\")"
   ]
  },
  {
   "cell_type": "code",
   "execution_count": null,
   "id": "5aa56c3b",
   "metadata": {},
   "outputs": [],
   "source": [
    "combined_institutions_df"
   ]
  },
  {
   "cell_type": "markdown",
   "id": "613b546d",
   "metadata": {},
   "source": [
    "# Load data into SQL database"
   ]
  },
  {
   "cell_type": "code",
   "execution_count": null,
   "id": "3eb3cd0e",
   "metadata": {},
   "outputs": [],
   "source": [
    "## BEFORE RUNNING THIS MAKE SURE YOU HAVE A LOCAL POSTGRES DB CREATED CALLED higher_ed_db\n",
    "## UPDATE YOUR CONNECTION STRING IN THIS NOTEBOOK IF NEEDED \n",
    "\n",
    "rds_connection_string = \"postgres:bootcamp@localhost:5432/higher_ed_db\"\n",
    "engine = create_engine(f'postgresql://{rds_connection_string}')\n"
   ]
  },
  {
   "cell_type": "code",
   "execution_count": null,
   "id": "56255bff",
   "metadata": {},
   "outputs": [],
   "source": [
    "# load the institutions_df to the streaming table\n",
    "combined_institutions_df.to_sql(name='institutions', con=engine, if_exists='append', index=False)"
   ]
  },
  {
   "cell_type": "code",
   "execution_count": null,
   "id": "7af67d6f",
   "metadata": {},
   "outputs": [],
   "source": []
  }
 ],
 "metadata": {
  "kernelspec": {
   "display_name": "Python 3",
   "language": "python",
   "name": "python3"
  },
  "language_info": {
   "codemirror_mode": {
    "name": "ipython",
    "version": 3
   },
   "file_extension": ".py",
   "mimetype": "text/x-python",
   "name": "python",
   "nbconvert_exporter": "python",
   "pygments_lexer": "ipython3",
   "version": "3.8.8"
  }
 },
 "nbformat": 4,
 "nbformat_minor": 5
}
